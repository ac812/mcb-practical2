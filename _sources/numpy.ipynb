{
 "cells": [
  {
   "cell_type": "markdown",
   "id": "312b3f41",
   "metadata": {},
   "source": [
    "# `NumPy` \n",
    "\n",
    "## What is Numpy?\n",
    "Package\n",
    "\n",
    "## Differences between NumPy arrays and standard Python sequences (e.g., lists)\n",
    "Table on column numpy the other lists\n",
    "https://numpy.org/devdocs/user/whatisnumpy.html\n",
    "\n",
    "\n",
    "### Advantages over lists\n",
    "\n",
    "* NumPy uses a **vectorised** code system for arrays so no need to use loops to apply operations on each data item. It facilitates mathematical and other operations on data structures:\n",
    "    * Fewer lines of code\n",
    "    * Easier to read, resembles mathematical notation.\n",
    "\n",
    "`````{tab-set}\n",
    "````{tab-item} Standard Python\n",
    "```{code-block}\n",
    "c = []\n",
    "for i in range(len(a)):\n",
    "    c.append(a[i]*b[i])\n",
    "```\n",
    "\n",
    "````\n",
    "\n",
    "````{tab-item} NumPy\n",
    "```{code-block}\n",
    "c = a * b\n",
    "```\n",
    "````\n",
    "`````\n",
    "\n",
    "* <Fast\n",
    "benchmark example above>\n",
    "\n",
    "\n",
    "\n",
    "[//]: # (#```{admonition})\n",
    "\n",
    "[//]: # (#:class: tip)\n",
    "\n",
    "[//]: # ()\n",
    "[//]: # (#Timing of numpy versus normal list)\n",
    "\n",
    "[//]: # ()\n",
    "[//]: # (#`````)\n",
    "\n",
    "\n",
    "Because we are using the Anaconda distribution, numpy should be already installed in our system.  You can check this in the Python Packages tab\n",
    "in PyCharm.  \n",
    "However to use numpy functions we need to import it in the code.  The widely adopted convention is as follows:"
   ]
  },
  {
   "cell_type": "code",
   "execution_count": 1,
   "id": "3f402987",
   "metadata": {},
   "outputs": [],
   "source": [
    "import numpy as np"
   ]
  }
 ],
 "metadata": {
  "jupytext": {
   "formats": "md:myst",
   "text_representation": {
    "extension": ".md",
    "format_name": "myst"
   }
  },
  "kernelspec": {
   "display_name": "Python 3",
   "language": "python",
   "name": "python3"
  },
  "language_info": {
   "codemirror_mode": {
    "name": "ipython",
    "version": 3
   },
   "file_extension": ".py",
   "mimetype": "text/x-python",
   "name": "python",
   "nbconvert_exporter": "python",
   "pygments_lexer": "ipython3",
   "version": "3.10.4"
  },
  "source_map": [
   11,
   67
  ]
 },
 "nbformat": 4,
 "nbformat_minor": 5
}